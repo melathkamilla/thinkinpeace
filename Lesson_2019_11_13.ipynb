{
  "nbformat": 4,
  "nbformat_minor": 0,
  "metadata": {
    "colab": {
      "name": "Lesson 2019.11.13.ipynb",
      "provenance": [],
      "collapsed_sections": [],
      "include_colab_link": true
    },
    "kernelspec": {
      "name": "python3",
      "display_name": "Python 3"
    }
  },
  "cells": [
    {
      "cell_type": "markdown",
      "metadata": {
        "id": "view-in-github",
        "colab_type": "text"
      },
      "source": [
        "<a href=\"https://colab.research.google.com/github/melathkamilla/thinkinpeace/blob/master/Lesson_2019_11_13.ipynb\" target=\"_parent\"><img src=\"https://colab.research.google.com/assets/colab-badge.svg\" alt=\"Open In Colab\"/></a>"
      ]
    },
    {
      "cell_type": "code",
      "metadata": {
        "id": "Esep6SRxvW3m",
        "colab_type": "code",
        "colab": {
          "base_uri": "https://localhost:8080/",
          "height": 34
        },
        "outputId": "89ca7ca9-8de7-4d56-8f01-89f5c98ab96b"
      },
      "source": [
        "\"Dictionaries\""
      ],
      "execution_count": 1,
      "outputs": [
        {
          "output_type": "execute_result",
          "data": {
            "text/plain": [
              "'Dictionaries'"
            ]
          },
          "metadata": {
            "tags": []
          },
          "execution_count": 1
        }
      ]
    },
    {
      "cell_type": "code",
      "metadata": {
        "id": "WwZvMdEYvfDE",
        "colab_type": "code",
        "colab": {
          "base_uri": "https://localhost:8080/",
          "height": 34
        },
        "outputId": "8e400555-fe19-495e-97f5-49a5fd427400"
      },
      "source": [
        "\"we put the items in curvie brackets\""
      ],
      "execution_count": 2,
      "outputs": [
        {
          "output_type": "execute_result",
          "data": {
            "text/plain": [
              "'we put the items in curvie brackets'"
            ]
          },
          "metadata": {
            "tags": []
          },
          "execution_count": 2
        }
      ]
    },
    {
      "cell_type": "code",
      "metadata": {
        "id": "5_vfMzYTvmDB",
        "colab_type": "code",
        "colab": {}
      },
      "source": [
        "x={\"name\": \"Kamilla\", \"age\":26, \"Location\": \"Koszoru utca 24\", \"siblings\":[\"Oliver\", \"Fanni\", \"Kristof\"]}"
      ],
      "execution_count": 0,
      "outputs": []
    },
    {
      "cell_type": "code",
      "metadata": {
        "id": "KSMTHiNbwdl2",
        "colab_type": "code",
        "colab": {
          "base_uri": "https://localhost:8080/",
          "height": 167
        },
        "outputId": "59307fdb-6986-4fd0-fdf0-12716ae46a26"
      },
      "source": [
        "name"
      ],
      "execution_count": 4,
      "outputs": [
        {
          "output_type": "error",
          "ename": "NameError",
          "evalue": "ignored",
          "traceback": [
            "\u001b[0;31m---------------------------------------------------------------------------\u001b[0m",
            "\u001b[0;31mNameError\u001b[0m                                 Traceback (most recent call last)",
            "\u001b[0;32m<ipython-input-4-9bc0cb2ed6de>\u001b[0m in \u001b[0;36m<module>\u001b[0;34m()\u001b[0m\n\u001b[0;32m----> 1\u001b[0;31m \u001b[0mname\u001b[0m\u001b[0;34m\u001b[0m\u001b[0;34m\u001b[0m\u001b[0m\n\u001b[0m",
            "\u001b[0;31mNameError\u001b[0m: name 'name' is not defined"
          ]
        }
      ]
    },
    {
      "cell_type": "code",
      "metadata": {
        "id": "kPiL9OHKwf3O",
        "colab_type": "code",
        "colab": {
          "base_uri": "https://localhost:8080/",
          "height": 87
        },
        "outputId": "9924aee1-56c2-4ffd-ed92-3a1dbdeceddb"
      },
      "source": [
        "x"
      ],
      "execution_count": 5,
      "outputs": [
        {
          "output_type": "execute_result",
          "data": {
            "text/plain": [
              "{'Location': 'Koszoru utca 24',\n",
              " 'age': 26,\n",
              " 'name': 'Kamilla',\n",
              " 'siblings': ['Oliver', 'Fanni', 'Kristof']}"
            ]
          },
          "metadata": {
            "tags": []
          },
          "execution_count": 5
        }
      ]
    },
    {
      "cell_type": "code",
      "metadata": {
        "id": "FW0RMaKXwixO",
        "colab_type": "code",
        "colab": {}
      },
      "source": [
        "y={}"
      ],
      "execution_count": 0,
      "outputs": []
    },
    {
      "cell_type": "code",
      "metadata": {
        "id": "0IzLktKjxNwN",
        "colab_type": "code",
        "colab": {
          "base_uri": "https://localhost:8080/",
          "height": 34
        },
        "outputId": "10885063-282c-4d34-e2ca-6a5e4645fef0"
      },
      "source": [
        "x[\"age\"]"
      ],
      "execution_count": 7,
      "outputs": [
        {
          "output_type": "execute_result",
          "data": {
            "text/plain": [
              "26"
            ]
          },
          "metadata": {
            "tags": []
          },
          "execution_count": 7
        }
      ]
    },
    {
      "cell_type": "code",
      "metadata": {
        "id": "Aw_B0I1lxVzd",
        "colab_type": "code",
        "colab": {}
      },
      "source": [
        "x[\"siblings\"].append(\"Daria\")"
      ],
      "execution_count": 0,
      "outputs": []
    },
    {
      "cell_type": "code",
      "metadata": {
        "id": "Dl-xS_EHxqzg",
        "colab_type": "code",
        "colab": {
          "base_uri": "https://localhost:8080/",
          "height": 34
        },
        "outputId": "178c9d93-16fd-4079-fd6e-5b197919b165"
      },
      "source": [
        "x[\"siblings\"]"
      ],
      "execution_count": 9,
      "outputs": [
        {
          "output_type": "execute_result",
          "data": {
            "text/plain": [
              "['Oliver', 'Fanni', 'Kristof', 'Daria']"
            ]
          },
          "metadata": {
            "tags": []
          },
          "execution_count": 9
        }
      ]
    },
    {
      "cell_type": "code",
      "metadata": {
        "id": "h4PI8AQCxuRY",
        "colab_type": "code",
        "colab": {
          "base_uri": "https://localhost:8080/",
          "height": 34
        },
        "outputId": "f9f49a50-48f5-457d-b85b-a6ce076b7fe3"
      },
      "source": [
        "y"
      ],
      "execution_count": 10,
      "outputs": [
        {
          "output_type": "execute_result",
          "data": {
            "text/plain": [
              "{}"
            ]
          },
          "metadata": {
            "tags": []
          },
          "execution_count": 10
        }
      ]
    },
    {
      "cell_type": "code",
      "metadata": {
        "id": "acVxmAcwx2xV",
        "colab_type": "code",
        "colab": {}
      },
      "source": [
        "y={\"a\":1, \"a\":2}"
      ],
      "execution_count": 0,
      "outputs": []
    },
    {
      "cell_type": "code",
      "metadata": {
        "id": "O7FDeArIyIFh",
        "colab_type": "code",
        "colab": {
          "base_uri": "https://localhost:8080/",
          "height": 34
        },
        "outputId": "6e5fd3c7-d419-4078-a29c-c25f9f6f6fe8"
      },
      "source": [
        "y"
      ],
      "execution_count": 12,
      "outputs": [
        {
          "output_type": "execute_result",
          "data": {
            "text/plain": [
              "{'a': 2}"
            ]
          },
          "metadata": {
            "tags": []
          },
          "execution_count": 12
        }
      ]
    },
    {
      "cell_type": "code",
      "metadata": {
        "id": "_P6JmXEdyI6o",
        "colab_type": "code",
        "colab": {}
      },
      "source": [
        "x[\"Location\"] = \"Koszoru utca 24, Budapest\""
      ],
      "execution_count": 0,
      "outputs": []
    },
    {
      "cell_type": "code",
      "metadata": {
        "id": "8u12aHwEyvFw",
        "colab_type": "code",
        "colab": {
          "base_uri": "https://localhost:8080/",
          "height": 87
        },
        "outputId": "e2ae0ddd-38ba-48dd-a324-4a47576910dd"
      },
      "source": [
        "x"
      ],
      "execution_count": 25,
      "outputs": [
        {
          "output_type": "execute_result",
          "data": {
            "text/plain": [
              "{'Location': 'Koszoru utca 24, Budapest',\n",
              " 'age': 26,\n",
              " 'name': 'Kamilla',\n",
              " 'siblings': ['Oliver', 'Fanni', 'Kristof', 'Daria']}"
            ]
          },
          "metadata": {
            "tags": []
          },
          "execution_count": 25
        }
      ]
    },
    {
      "cell_type": "code",
      "metadata": {
        "id": "d7Z5RJQBzNsu",
        "colab_type": "code",
        "colab": {}
      },
      "source": [
        "x[\"lang\"]=\"HU\""
      ],
      "execution_count": 0,
      "outputs": []
    },
    {
      "cell_type": "code",
      "metadata": {
        "id": "2EysDe-Dz06v",
        "colab_type": "code",
        "colab": {
          "base_uri": "https://localhost:8080/",
          "height": 105
        },
        "outputId": "c960aeb6-2bf5-4497-f7fb-6a8426977fa6"
      },
      "source": [
        "x"
      ],
      "execution_count": 27,
      "outputs": [
        {
          "output_type": "execute_result",
          "data": {
            "text/plain": [
              "{'Location': 'Koszoru utca 24, Budapest',\n",
              " 'age': 26,\n",
              " 'lang': 'HU',\n",
              " 'name': 'Kamilla',\n",
              " 'siblings': ['Oliver', 'Fanni', 'Kristof', 'Daria']}"
            ]
          },
          "metadata": {
            "tags": []
          },
          "execution_count": 27
        }
      ]
    },
    {
      "cell_type": "code",
      "metadata": {
        "id": "x7QAfSxoz1sf",
        "colab_type": "code",
        "colab": {
          "base_uri": "https://localhost:8080/",
          "height": 34
        },
        "outputId": "46a52559-1aa6-495d-aa98-2670ca7c0502"
      },
      "source": [
        "x[\"siblings\"][0]"
      ],
      "execution_count": 28,
      "outputs": [
        {
          "output_type": "execute_result",
          "data": {
            "text/plain": [
              "'Oliver'"
            ]
          },
          "metadata": {
            "tags": []
          },
          "execution_count": 28
        }
      ]
    },
    {
      "cell_type": "code",
      "metadata": {
        "id": "e7Ierm740APo",
        "colab_type": "code",
        "colab": {
          "base_uri": "https://localhost:8080/",
          "height": 34
        },
        "outputId": "6237d599-377d-42e3-e4cd-3eba9bebf239"
      },
      "source": [
        "x[\"siblings\"][2]"
      ],
      "execution_count": 30,
      "outputs": [
        {
          "output_type": "execute_result",
          "data": {
            "text/plain": [
              "'Kristof'"
            ]
          },
          "metadata": {
            "tags": []
          },
          "execution_count": 30
        }
      ]
    },
    {
      "cell_type": "code",
      "metadata": {
        "id": "y_vfJjuO0TnR",
        "colab_type": "code",
        "colab": {
          "base_uri": "https://localhost:8080/",
          "height": 34
        },
        "outputId": "0ad07cf6-4e85-4d01-e3f1-bdb14728e44e"
      },
      "source": [
        "len(x[\"siblings\"])"
      ],
      "execution_count": 31,
      "outputs": [
        {
          "output_type": "execute_result",
          "data": {
            "text/plain": [
              "4"
            ]
          },
          "metadata": {
            "tags": []
          },
          "execution_count": 31
        }
      ]
    },
    {
      "cell_type": "code",
      "metadata": {
        "id": "lg_UKId-0eAq",
        "colab_type": "code",
        "colab": {
          "base_uri": "https://localhost:8080/",
          "height": 34
        },
        "outputId": "91373029-9df0-4a46-82dc-3ea43cea022e"
      },
      "source": [
        "y"
      ],
      "execution_count": 32,
      "outputs": [
        {
          "output_type": "execute_result",
          "data": {
            "text/plain": [
              "{'a': 2}"
            ]
          },
          "metadata": {
            "tags": []
          },
          "execution_count": 32
        }
      ]
    },
    {
      "cell_type": "code",
      "metadata": {
        "id": "vBhojkzg1E56",
        "colab_type": "code",
        "colab": {
          "base_uri": "https://localhost:8080/",
          "height": 34
        },
        "outputId": "2303e0a9-6152-4e5f-f7c6-fe115ec37ef9"
      },
      "source": [
        "\"EX: DICTIONARY OF LISTS\""
      ],
      "execution_count": 33,
      "outputs": [
        {
          "output_type": "execute_result",
          "data": {
            "text/plain": [
              "'EX: DICTIONARY OF LISTS'"
            ]
          },
          "metadata": {
            "tags": []
          },
          "execution_count": 33
        }
      ]
    },
    {
      "cell_type": "code",
      "metadata": {
        "id": "m1hfLio91PyB",
        "colab_type": "code",
        "colab": {}
      },
      "source": [
        "nyerőszámok={\"2019-11-13\":[1,22,4,5,6],\n",
        " \"2019-11-12\": [9, 57,23,3,4]}"
      ],
      "execution_count": 0,
      "outputs": []
    },
    {
      "cell_type": "code",
      "metadata": {
        "id": "xrVKmebc133B",
        "colab_type": "code",
        "colab": {
          "base_uri": "https://localhost:8080/",
          "height": 34
        },
        "outputId": "47a4eae9-2bc3-47d9-b8a0-c2dd8197091f"
      },
      "source": [
        "nyerőszámok"
      ],
      "execution_count": 36,
      "outputs": [
        {
          "output_type": "execute_result",
          "data": {
            "text/plain": [
              "{'2019-11-12': [9, 57, 23, 3, 4], '2019-11-13': [1, 22, 4, 5, 6]}"
            ]
          },
          "metadata": {
            "tags": []
          },
          "execution_count": 36
        }
      ]
    },
    {
      "cell_type": "code",
      "metadata": {
        "id": "4npQzZIG2GHf",
        "colab_type": "code",
        "colab": {
          "base_uri": "https://localhost:8080/",
          "height": 167
        },
        "outputId": "cf71638c-2f5c-4c67-cdee-d824d090625c"
      },
      "source": [
        "nyerőszámok + {\"2019-11-11\":[2,3,4,5,6]}"
      ],
      "execution_count": 40,
      "outputs": [
        {
          "output_type": "error",
          "ename": "TypeError",
          "evalue": "ignored",
          "traceback": [
            "\u001b[0;31m---------------------------------------------------------------------------\u001b[0m",
            "\u001b[0;31mTypeError\u001b[0m                                 Traceback (most recent call last)",
            "\u001b[0;32m<ipython-input-40-9a05c2703f9e>\u001b[0m in \u001b[0;36m<module>\u001b[0;34m()\u001b[0m\n\u001b[0;32m----> 1\u001b[0;31m \u001b[0mnyerőszámok\u001b[0m \u001b[0;34m+\u001b[0m \u001b[0;34m{\u001b[0m\u001b[0;34m\"2019-11-11\"\u001b[0m\u001b[0;34m:\u001b[0m\u001b[0;34m[\u001b[0m\u001b[0;36m2\u001b[0m\u001b[0;34m,\u001b[0m\u001b[0;36m3\u001b[0m\u001b[0;34m,\u001b[0m\u001b[0;36m4\u001b[0m\u001b[0;34m,\u001b[0m\u001b[0;36m5\u001b[0m\u001b[0;34m,\u001b[0m\u001b[0;36m6\u001b[0m\u001b[0;34m]\u001b[0m\u001b[0;34m}\u001b[0m\u001b[0;34m\u001b[0m\u001b[0;34m\u001b[0m\u001b[0m\n\u001b[0m",
            "\u001b[0;31mTypeError\u001b[0m: unsupported operand type(s) for +: 'dict' and 'dict'"
          ]
        }
      ]
    },
    {
      "cell_type": "code",
      "metadata": {
        "id": "HL0jRoXk2Yx8",
        "colab_type": "code",
        "colab": {
          "base_uri": "https://localhost:8080/",
          "height": 132
        },
        "outputId": "3f75b798-e135-4779-df17-2196401d4afc"
      },
      "source": [
        "for k in x:"
      ],
      "execution_count": 41,
      "outputs": [
        {
          "output_type": "error",
          "ename": "SyntaxError",
          "evalue": "ignored",
          "traceback": [
            "\u001b[0;36m  File \u001b[0;32m\"<ipython-input-41-c786c044c6c3>\"\u001b[0;36m, line \u001b[0;32m1\u001b[0m\n\u001b[0;31m    for k in x:\u001b[0m\n\u001b[0m               ^\u001b[0m\n\u001b[0;31mSyntaxError\u001b[0m\u001b[0;31m:\u001b[0m unexpected EOF while parsing\n"
          ]
        }
      ]
    },
    {
      "cell_type": "code",
      "metadata": {
        "id": "hEWcXD2t26Uu",
        "colab_type": "code",
        "colab": {
          "base_uri": "https://localhost:8080/",
          "height": 105
        },
        "outputId": "4b506317-adb2-474c-84a0-01cf7dd1cd94"
      },
      "source": [
        "for k in x:\n",
        "    print(x[k])"
      ],
      "execution_count": 42,
      "outputs": [
        {
          "output_type": "stream",
          "text": [
            "Kamilla\n",
            "26\n",
            "Koszoru utca 24, Budapest\n",
            "['Oliver', 'Fanni', 'Kristof', 'Daria']\n",
            "HU\n"
          ],
          "name": "stdout"
        }
      ]
    },
    {
      "cell_type": "code",
      "metadata": {
        "id": "1PESe5O03DOl",
        "colab_type": "code",
        "colab": {
          "base_uri": "https://localhost:8080/",
          "height": 105
        },
        "outputId": "df72670e-5049-4d49-db03-b74b8e560c27"
      },
      "source": [
        "for k,v in x.items():\n",
        "    print(k,v)"
      ],
      "execution_count": 45,
      "outputs": [
        {
          "output_type": "stream",
          "text": [
            "name Kamilla\n",
            "age 26\n",
            "Location Koszoru utca 24, Budapest\n",
            "siblings ['Oliver', 'Fanni', 'Kristof', 'Daria']\n",
            "lang HU\n"
          ],
          "name": "stdout"
        }
      ]
    },
    {
      "cell_type": "code",
      "metadata": {
        "id": "Or3g__NQ3deK",
        "colab_type": "code",
        "colab": {
          "base_uri": "https://localhost:8080/",
          "height": 105
        },
        "outputId": "9b677481-45c4-449f-bf65-ed0b7b70889f"
      },
      "source": [
        "x"
      ],
      "execution_count": 46,
      "outputs": [
        {
          "output_type": "execute_result",
          "data": {
            "text/plain": [
              "{'Location': 'Koszoru utca 24, Budapest',\n",
              " 'age': 26,\n",
              " 'lang': 'HU',\n",
              " 'name': 'Kamilla',\n",
              " 'siblings': ['Oliver', 'Fanni', 'Kristof', 'Daria']}"
            ]
          },
          "metadata": {
            "tags": []
          },
          "execution_count": 46
        }
      ]
    },
    {
      "cell_type": "code",
      "metadata": {
        "id": "tpAZhufy3x_I",
        "colab_type": "code",
        "colab": {
          "base_uri": "https://localhost:8080/",
          "height": 105
        },
        "outputId": "67f965e9-a71d-45a7-cd08-a1b50553a312"
      },
      "source": [
        "for v in x:\n",
        "    print(v)"
      ],
      "execution_count": 47,
      "outputs": [
        {
          "output_type": "stream",
          "text": [
            "name\n",
            "age\n",
            "Location\n",
            "siblings\n",
            "lang\n"
          ],
          "name": "stdout"
        }
      ]
    },
    {
      "cell_type": "code",
      "metadata": {
        "id": "zmCcb_-P4LCM",
        "colab_type": "code",
        "colab": {
          "base_uri": "https://localhost:8080/",
          "height": 105
        },
        "outputId": "b385c0c2-80e4-4bc3-f579-f1e26be0419c"
      },
      "source": [
        "for v in x:\n",
        "    print(x[v])"
      ],
      "execution_count": 48,
      "outputs": [
        {
          "output_type": "stream",
          "text": [
            "Kamilla\n",
            "26\n",
            "Koszoru utca 24, Budapest\n",
            "['Oliver', 'Fanni', 'Kristof', 'Daria']\n",
            "HU\n"
          ],
          "name": "stdout"
        }
      ]
    },
    {
      "cell_type": "code",
      "metadata": {
        "id": "8avtV9jR4s_x",
        "colab_type": "code",
        "colab": {
          "base_uri": "https://localhost:8080/",
          "height": 34
        },
        "outputId": "1ddf6ae9-1a73-4a28-a8c4-1b391e914dfb"
      },
      "source": [
        "for k,v in x.items():\n",
        "  if k==\"age\" and v>18:\n",
        "    print(\"ihat\")"
      ],
      "execution_count": 53,
      "outputs": [
        {
          "output_type": "stream",
          "text": [
            "ihat\n"
          ],
          "name": "stdout"
        }
      ]
    },
    {
      "cell_type": "code",
      "metadata": {
        "id": "25Me5LcG5dfN",
        "colab_type": "code",
        "colab": {}
      },
      "source": [
        "x2 = x"
      ],
      "execution_count": 0,
      "outputs": []
    },
    {
      "cell_type": "code",
      "metadata": {
        "id": "wq3k9g066eHg",
        "colab_type": "code",
        "colab": {}
      },
      "source": [
        "people = {\"Kamilla_1\": x, \"Kamilla_2\":x2}"
      ],
      "execution_count": 0,
      "outputs": []
    },
    {
      "cell_type": "code",
      "metadata": {
        "id": "8jlt7HZp6pMN",
        "colab_type": "code",
        "colab": {
          "base_uri": "https://localhost:8080/",
          "height": 194
        },
        "outputId": "2ed20db2-2159-4e65-97d3-9bb841c71c19"
      },
      "source": [
        "people"
      ],
      "execution_count": 57,
      "outputs": [
        {
          "output_type": "execute_result",
          "data": {
            "text/plain": [
              "{'Kamilla_1': {'Location': 'Koszoru utca 24, Budapest',\n",
              "  'age': 26,\n",
              "  'lang': 'HU',\n",
              "  'name': 'Kamilla',\n",
              "  'siblings': ['Oliver', 'Fanni', 'Kristof', 'Daria']},\n",
              " 'Kamilla_2': {'Location': 'Koszoru utca 24, Budapest',\n",
              "  'age': 26,\n",
              "  'lang': 'HU',\n",
              "  'name': 'Kamilla',\n",
              "  'siblings': ['Oliver', 'Fanni', 'Kristof', 'Daria']}}"
            ]
          },
          "metadata": {
            "tags": []
          },
          "execution_count": 57
        }
      ]
    },
    {
      "cell_type": "code",
      "metadata": {
        "id": "iq6jeQZg6rbc",
        "colab_type": "code",
        "colab": {}
      },
      "source": [
        "people[\"uj_ember\"] = {}"
      ],
      "execution_count": 0,
      "outputs": []
    },
    {
      "cell_type": "code",
      "metadata": {
        "id": "GjBbhbO065NL",
        "colab_type": "code",
        "colab": {}
      },
      "source": [
        "people[\"uj_ember\"][\"name\"] = \"...\""
      ],
      "execution_count": 0,
      "outputs": []
    },
    {
      "cell_type": "code",
      "metadata": {
        "id": "UD_UnDSm6-J7",
        "colab_type": "code",
        "colab": {
          "base_uri": "https://localhost:8080/",
          "height": 212
        },
        "outputId": "4966fb05-f0c7-45d5-93bd-e6147bae4e8a"
      },
      "source": [
        "people"
      ],
      "execution_count": 60,
      "outputs": [
        {
          "output_type": "execute_result",
          "data": {
            "text/plain": [
              "{'Kamilla_1': {'Location': 'Koszoru utca 24, Budapest',\n",
              "  'age': 26,\n",
              "  'lang': 'HU',\n",
              "  'name': 'Kamilla',\n",
              "  'siblings': ['Oliver', 'Fanni', 'Kristof', 'Daria']},\n",
              " 'Kamilla_2': {'Location': 'Koszoru utca 24, Budapest',\n",
              "  'age': 26,\n",
              "  'lang': 'HU',\n",
              "  'name': 'Kamilla',\n",
              "  'siblings': ['Oliver', 'Fanni', 'Kristof', 'Daria']},\n",
              " 'uj_ember': {'name': '...'}}"
            ]
          },
          "metadata": {
            "tags": []
          },
          "execution_count": 60
        }
      ]
    },
    {
      "cell_type": "code",
      "metadata": {
        "id": "PBkZ9lpB6-5j",
        "colab_type": "code",
        "colab": {
          "base_uri": "https://localhost:8080/",
          "height": 105
        },
        "outputId": "6cd61249-c0a6-469e-9b43-44bd1b040cf6"
      },
      "source": [
        "x"
      ],
      "execution_count": 61,
      "outputs": [
        {
          "output_type": "execute_result",
          "data": {
            "text/plain": [
              "{'Location': 'Koszoru utca 24, Budapest',\n",
              " 'age': 26,\n",
              " 'lang': 'HU',\n",
              " 'name': 'Kamilla',\n",
              " 'siblings': ['Oliver', 'Fanni', 'Kristof', 'Daria']}"
            ]
          },
          "metadata": {
            "tags": []
          },
          "execution_count": 61
        }
      ]
    },
    {
      "cell_type": "code",
      "metadata": {
        "id": "vju5Mpmj7BFa",
        "colab_type": "code",
        "colab": {}
      },
      "source": [
        ""
      ],
      "execution_count": 0,
      "outputs": []
    }
  ]
}