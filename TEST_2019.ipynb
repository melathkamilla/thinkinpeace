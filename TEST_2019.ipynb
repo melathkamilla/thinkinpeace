{
  "nbformat": 4,
  "nbformat_minor": 0,
  "metadata": {
    "colab": {
      "name": "TEST 2019.ipynb",
      "provenance": [],
      "include_colab_link": true
    },
    "kernelspec": {
      "name": "python3",
      "display_name": "Python 3"
    }
  },
  "cells": [
    {
      "cell_type": "markdown",
      "metadata": {
        "id": "view-in-github",
        "colab_type": "text"
      },
      "source": [
        "<a href=\"https://colab.research.google.com/github/melathkamilla/thinkinpeace/blob/master/TEST_2019.ipynb\" target=\"_parent\"><img src=\"https://colab.research.google.com/assets/colab-badge.svg\" alt=\"Open In Colab\"/></a>"
      ]
    },
    {
      "cell_type": "code",
      "metadata": {
        "id": "Td4ES9r54zd-",
        "colab_type": "code",
        "colab": {}
      },
      "source": [
        "list_01 = [61,82,64,100,3,72,31,26,57,21,24,23,14,27,54]"
      ],
      "execution_count": 0,
      "outputs": []
    },
    {
      "cell_type": "code",
      "metadata": {
        "id": "MRGjYzO0498o",
        "colab_type": "code",
        "colab": {
          "base_uri": "https://localhost:8080/",
          "height": 34
        },
        "outputId": "828678c1-7e21-4e14-efd8-f52b80781327"
      },
      "source": [
        "list_01 = [61,82,64,100,3,72,31,26,57,21,24,23,14,27,54]\n",
        "\n",
        "over50_list_01 = []\n",
        "for i in list_01:\n",
        "    if i > 50:\n",
        "      over50_list_01.append(i)\n",
        "\n",
        "print(over50_list_01)"
      ],
      "execution_count": 4,
      "outputs": [
        {
          "output_type": "stream",
          "text": [
            "[61, 82, 64, 100, 72, 57, 54]\n"
          ],
          "name": "stdout"
        }
      ]
    },
    {
      "cell_type": "code",
      "metadata": {
        "id": "bUC0MWwT7Q1R",
        "colab_type": "code",
        "colab": {
          "base_uri": "https://localhost:8080/",
          "height": 34
        },
        "outputId": "fd205db4-95cc-4a15-c646-827ef6caeca7"
      },
      "source": [
        "\"# 2             list_02 = [49,76,28,55,51,13,17,4,32,99,37,8,92,90]         # print the numbers from list_02 between 30 and 70 (excluding 30 or 70)\""
      ],
      "execution_count": 5,
      "outputs": [
        {
          "output_type": "execute_result",
          "data": {
            "text/plain": [
              "'# 2             list_02 = [49,76,28,55,51,13,17,4,32,99,37,8,92,90]         # print the numbers from list_02 between 30 and 70 (excluding 30 or 70)'"
            ]
          },
          "metadata": {
            "tags": []
          },
          "execution_count": 5
        }
      ]
    },
    {
      "cell_type": "code",
      "metadata": {
        "id": "tSpY4mYi8OXY",
        "colab_type": "code",
        "colab": {
          "base_uri": "https://localhost:8080/",
          "height": 105
        },
        "outputId": "f6b60bde-9ad7-4204-e133-ef0c2583bff4"
      },
      "source": [
        "list_02 = [49,76,28,55,51,13,17,4,32,99,37,8,92,90]\n",
        "\n",
        "for i in list_02:\n",
        "    if i > 30 and i <70:\n",
        "      print(i) \n",
        "\n"
      ],
      "execution_count": 9,
      "outputs": [
        {
          "output_type": "stream",
          "text": [
            "49\n",
            "55\n",
            "51\n",
            "32\n",
            "37\n"
          ],
          "name": "stdout"
        }
      ]
    },
    {
      "cell_type": "code",
      "metadata": {
        "id": "jnd64Tu38yQE",
        "colab_type": "code",
        "colab": {
          "base_uri": "https://localhost:8080/",
          "height": 34
        },
        "outputId": "3b0e73a4-2420-4bc2-ebcd-327740a6169b"
      },
      "source": [
        "\"# 3   # create a new list from list_02 where the elements are the squares of the original\""
      ],
      "execution_count": 10,
      "outputs": [
        {
          "output_type": "execute_result",
          "data": {
            "text/plain": [
              "'# 3   # create a new list from list_02 where the elements are the squares of the original'"
            ]
          },
          "metadata": {
            "tags": []
          },
          "execution_count": 10
        }
      ]
    },
    {
      "cell_type": "code",
      "metadata": {
        "id": "04tvMulC9Vtv",
        "colab_type": "code",
        "colab": {
          "base_uri": "https://localhost:8080/",
          "height": 34
        },
        "outputId": "778f27b5-a93c-46c8-d861-f5cb7a26067b"
      },
      "source": [
        "squares_list_02 = []\n",
        "\n",
        "for i in list_02:\n",
        "    if i*i :\n",
        "      squares_list_02.append(i*i)\n",
        "\n",
        "print(squares_list_02)"
      ],
      "execution_count": 11,
      "outputs": [
        {
          "output_type": "stream",
          "text": [
            "[2401, 5776, 784, 3025, 2601, 169, 289, 16, 1024, 9801, 1369, 64, 8464, 8100]\n"
          ],
          "name": "stdout"
        }
      ]
    },
    {
      "cell_type": "code",
      "metadata": {
        "id": "M5fOicJm-HdO",
        "colab_type": "code",
        "colab": {
          "base_uri": "https://localhost:8080/",
          "height": 34
        },
        "outputId": "9baa5a3d-cafa-47ea-eb8d-7784c3465acc"
      },
      "source": [
        "\"\"# 4    loremipsum = \"Lorem ipsum dolor sit amet, consectetur adipiscing elit. Quisque varius vel augue non efficitur. Duis in tincidunt metus. Vestibulum scelerisque egestas feugiat. Fusce suscipit lacus in posuere placerat. Nulla blandit est purus, ut facilisis ante cursus id. Mauris ac ultricies felis. Quisque molestie mollis eros id facilisis.         # count the number of vowels and consonants in this string\"\"\""
      ],
      "execution_count": 12,
      "outputs": [
        {
          "output_type": "execute_result",
          "data": {
            "text/plain": [
              "''"
            ]
          },
          "metadata": {
            "tags": []
          },
          "execution_count": 12
        }
      ]
    },
    {
      "cell_type": "code",
      "metadata": {
        "id": "m-AyXi5o-05e",
        "colab_type": "code",
        "colab": {
          "base_uri": "https://localhost:8080/",
          "height": 34
        },
        "outputId": "7f237e1b-7ac9-4a5e-f7ff-fd8dd7f09ae1"
      },
      "source": [
        "\"#4\""
      ],
      "execution_count": 13,
      "outputs": [
        {
          "output_type": "execute_result",
          "data": {
            "text/plain": [
              "'#4'"
            ]
          },
          "metadata": {
            "tags": []
          },
          "execution_count": 13
        }
      ]
    },
    {
      "cell_type": "code",
      "metadata": {
        "id": "vQVjDOhY-7Dc",
        "colab_type": "code",
        "colab": {}
      },
      "source": [
        "loremipsum = \"Lorem ipsum dolor sit amet, consectetur adipiscing elit. Quisque varius vel augue non efficitur. Duis in tincidunt metus. Vestibulum scelerisque egestas feugiat. Fusce suscipit lacus in posuere placerat. Nulla blandit est purus, ut facilisis ante cursus id. Mauris ac ultricies felis. Quisque molestie mollis eros id facilisis.\""
      ],
      "execution_count": 0,
      "outputs": []
    },
    {
      "cell_type": "code",
      "metadata": {
        "id": "ffyL7Tfp--jk",
        "colab_type": "code",
        "colab": {
          "base_uri": "https://localhost:8080/",
          "height": 34
        },
        "outputId": "b5621608-617d-488d-881d-6315166f07d4"
      },
      "source": [
        "consonantslore = \"\"\n",
        "for char  in \"Lorem ipsum dolor sit amet, consectetur adipiscing elit. Quisque varius vel augue non efficitur. Duis in tincidunt metus. Vestibulum scelerisque egestas feugiat. Fusce suscipit lacus in posuere placerat. Nulla blandit est purus, ut facilisis ante cursus id. Mauris ac ultricies felis. Quisque molestie mollis eros id facilisis.\":\n",
        "    if char not in \"AeiouAEIOU\":\n",
        "      consonantslore=consonantslore+char\n",
        "len(consonantslore)\n"
      ],
      "execution_count": 20,
      "outputs": [
        {
          "output_type": "execute_result",
          "data": {
            "text/plain": [
              "224"
            ]
          },
          "metadata": {
            "tags": []
          },
          "execution_count": 20
        }
      ]
    },
    {
      "cell_type": "code",
      "metadata": {
        "id": "7IZWs6YR_2SM",
        "colab_type": "code",
        "colab": {
          "base_uri": "https://localhost:8080/",
          "height": 34
        },
        "outputId": "c0407a5f-b6c5-4d98-913f-3e64d46f9cb4"
      },
      "source": [
        "consonantslore = \"\"\n",
        "for char  in loremipsum:\n",
        "    if char not in \"AeiouAEIOU\":\n",
        "      consonantslore=consonantslore+char\n",
        "len(consonantslore)\n"
      ],
      "execution_count": 21,
      "outputs": [
        {
          "output_type": "execute_result",
          "data": {
            "text/plain": [
              "224"
            ]
          },
          "metadata": {
            "tags": []
          },
          "execution_count": 21
        }
      ]
    },
    {
      "cell_type": "code",
      "metadata": {
        "id": "dANbdZa1BikW",
        "colab_type": "code",
        "colab": {
          "base_uri": "https://localhost:8080/",
          "height": 34
        },
        "outputId": "f5e94226-7385-4ca0-e604-3d6d36161280"
      },
      "source": [
        "vovelslore = \"\"\n",
        "for char  in loremipsum:\n",
        "    if char in \"AeiouAEIOU\":\n",
        "      vovelslore=vovelslore+char\n",
        "len(vovelslore)"
      ],
      "execution_count": 22,
      "outputs": [
        {
          "output_type": "execute_result",
          "data": {
            "text/plain": [
              "103"
            ]
          },
          "metadata": {
            "tags": []
          },
          "execution_count": 22
        }
      ]
    },
    {
      "cell_type": "code",
      "metadata": {
        "id": "kowZhmY6BwlC",
        "colab_type": "code",
        "colab": {}
      },
      "source": [
        "#5\n"
      ],
      "execution_count": 0,
      "outputs": []
    },
    {
      "cell_type": "code",
      "metadata": {
        "id": "_adUcUGlCHZS",
        "colab_type": "code",
        "colab": {}
      },
      "source": [
        "movies = {2018:\"Green Book\", 2017:\"The Shape of Water\", 2016:\"Moonlight\", 2015:\"Spotlight\", 2014:\"Birdman\", 2013:\"12 Years a Slave\"}"
      ],
      "execution_count": 0,
      "outputs": []
    },
    {
      "cell_type": "code",
      "metadata": {
        "id": "atSaS6kSCTxc",
        "colab_type": "code",
        "colab": {
          "base_uri": "https://localhost:8080/",
          "height": 52
        },
        "outputId": "b74dedc7-f2e4-4d47-ed10-3cb9f6f08be3"
      },
      "source": [
        "\n",
        "movies = {2018:\"Green Book\", 2017:\"The Shape of Water\", 2016:\"Moonlight\", 2015:\"Spotlight\", 2014:\"Birdman\", 2013:\"12 Years a Slave\"}\n",
        "for movie in movies.values():\n",
        "  if len(movie) >10:\n",
        "    print(movie)"
      ],
      "execution_count": 32,
      "outputs": [
        {
          "output_type": "stream",
          "text": [
            "The Shape of Water\n",
            "12 Years a Slave\n"
          ],
          "name": "stdout"
        }
      ]
    },
    {
      "cell_type": "code",
      "metadata": {
        "id": "baJCsdfPDl8M",
        "colab_type": "code",
        "colab": {}
      },
      "source": [
        "# 6\n",
        "# calculate the double factorial of 20"
      ],
      "execution_count": 0,
      "outputs": []
    },
    {
      "cell_type": "code",
      "metadata": {
        "id": "qsyjWxpwE00G",
        "colab_type": "code",
        "colab": {}
      },
      "source": [
        "n=20"
      ],
      "execution_count": 0,
      "outputs": []
    },
    {
      "cell_type": "code",
      "metadata": {
        "id": "9ZJemN9SFk-2",
        "colab_type": "code",
        "colab": {
          "base_uri": "https://localhost:8080/",
          "height": 34
        },
        "outputId": "cd3947b8-91c2-4a2c-f142-38f3584aa43f"
      },
      "source": [
        "n"
      ],
      "execution_count": 35,
      "outputs": [
        {
          "output_type": "execute_result",
          "data": {
            "text/plain": [
              "20"
            ]
          },
          "metadata": {
            "tags": []
          },
          "execution_count": 35
        }
      ]
    },
    {
      "cell_type": "code",
      "metadata": {
        "id": "XqzDoPApFmme",
        "colab_type": "code",
        "colab": {}
      },
      "source": [
        "k= ()\n",
        "n = 2*(k)\n"
      ],
      "execution_count": 0,
      "outputs": []
    },
    {
      "cell_type": "code",
      "metadata": {
        "id": "sxEMBmLdF4rW",
        "colab_type": "code",
        "colab": {}
      },
      "source": [
        "dfn = 2^10 *10*9*8*7*6*5*4*3*2"
      ],
      "execution_count": 0,
      "outputs": []
    },
    {
      "cell_type": "code",
      "metadata": {
        "id": "tyrsBBDKHiiE",
        "colab_type": "code",
        "colab": {
          "base_uri": "https://localhost:8080/",
          "height": 34
        },
        "outputId": "479e6665-fa31-4f39-ba35-7e04f9aa892f"
      },
      "source": [
        ""
      ],
      "execution_count": 58,
      "outputs": [
        {
          "output_type": "execute_result",
          "data": {
            "text/plain": [
              "36288002"
            ]
          },
          "metadata": {
            "tags": []
          },
          "execution_count": 58
        }
      ]
    },
    {
      "cell_type": "code",
      "metadata": {
        "id": "9gjUSgPsHkAa",
        "colab_type": "code",
        "colab": {}
      },
      "source": [
        "# 7\n",
        "# Create a list with the first 100 elements of Recamán's sequence\n",
        "# description here: https://oeis.org/A005132\n",
        "# you start with a = [0]\n",
        "# and need to end up with [0, 1, 3, 6, 2, 7, 13, 20, 12, ...]"
      ],
      "execution_count": 0,
      "outputs": []
    },
    {
      "cell_type": "code",
      "metadata": {
        "id": "0_4bQ2CCHwGz",
        "colab_type": "code",
        "colab": {
          "base_uri": "https://localhost:8080/",
          "height": 132
        },
        "outputId": "e062eb66-01aa-413d-bea4-117320d8b2db"
      },
      "source": [
        "Recamans_sequence: a(0) = 0; for n > 0, a(n) = a(n-1) - n:\n",
        "  if that number is positive and not already in the sequence:\n",
        "      otherwise a(n) = a(n-1) + n"
      ],
      "execution_count": 74,
      "outputs": [
        {
          "output_type": "error",
          "ename": "SyntaxError",
          "evalue": "ignored",
          "traceback": [
            "\u001b[0;36m  File \u001b[0;32m\"<ipython-input-74-df5b1b3954e3>\"\u001b[0;36m, line \u001b[0;32m1\u001b[0m\n\u001b[0;31m    Recamans sequence: a(0) = 0; for n > 0, a(n) = a(n-1) - n:\u001b[0m\n\u001b[0m                    ^\u001b[0m\n\u001b[0;31mSyntaxError\u001b[0m\u001b[0;31m:\u001b[0m invalid syntax\n"
          ]
        }
      ]
    },
    {
      "cell_type": "code",
      "metadata": {
        "id": "Hyu3SpacJZrv",
        "colab_type": "code",
        "colab": {}
      },
      "source": [
        "\n"
      ],
      "execution_count": 0,
      "outputs": []
    },
    {
      "cell_type": "code",
      "metadata": {
        "colab_type": "code",
        "outputId": "1e9226d9-36d7-4ae4-8c41-c37e37c27f60",
        "id": "braSjXW0KOdq",
        "colab": {
          "base_uri": "https://localhost:8080/",
          "height": 132
        }
      },
      "source": [
        "Recamans_sequence: a(0) = 0; for n > 0, a(n) = a(n-1) - n\n"
      ],
      "execution_count": 78,
      "outputs": [
        {
          "output_type": "error",
          "ename": "SyntaxError",
          "evalue": "ignored",
          "traceback": [
            "\u001b[0;36m  File \u001b[0;32m\"<ipython-input-78-05d2ad44e651>\"\u001b[0;36m, line \u001b[0;32m1\u001b[0m\n\u001b[0;31m    Recamans_sequence: a(0) = 0; for n > 0, a(n) = a(n-1) - n\u001b[0m\n\u001b[0m                                   ^\u001b[0m\n\u001b[0;31mSyntaxError\u001b[0m\u001b[0;31m:\u001b[0m invalid syntax\n"
          ]
        }
      ]
    },
    {
      "cell_type": "code",
      "metadata": {
        "colab_type": "code",
        "outputId": "eeef25be-6304-441e-94ec-a0c98261de57",
        "id": "yUSL-cT_KV-0",
        "colab": {
          "base_uri": "https://localhost:8080/",
          "height": 132
        }
      },
      "source": [
        "Recamans_sequence: a(0) = 0; for n > 0, a(n) = a(n-1) - n:\n",
        "  if number is >0 and not in the sequence:\n",
        "      otherwise a(n) = a(n-1) + n"
      ],
      "execution_count": 79,
      "outputs": [
        {
          "output_type": "error",
          "ename": "SyntaxError",
          "evalue": "ignored",
          "traceback": [
            "\u001b[0;36m  File \u001b[0;32m\"<ipython-input-79-ec49464cde11>\"\u001b[0;36m, line \u001b[0;32m1\u001b[0m\n\u001b[0;31m    Recamans_sequence: a(0) = 0; for n > 0, a(n) = a(n-1) - n:\u001b[0m\n\u001b[0m                                   ^\u001b[0m\n\u001b[0;31mSyntaxError\u001b[0m\u001b[0;31m:\u001b[0m invalid syntax\n"
          ]
        }
      ]
    },
    {
      "cell_type": "code",
      "metadata": {
        "id": "pi_PlrHrKQL3",
        "colab_type": "code",
        "colab": {}
      },
      "source": [
        ""
      ],
      "execution_count": 0,
      "outputs": []
    }
  ]
}