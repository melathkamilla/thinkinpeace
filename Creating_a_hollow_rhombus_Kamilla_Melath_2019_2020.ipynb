{
  "nbformat": 4,
  "nbformat_minor": 0,
  "metadata": {
    "colab": {
      "name": "Creating a hollow rhombus - Kamilla Melath- 2019/2020.ipynb",
      "provenance": [],
      "collapsed_sections": [],
      "authorship_tag": "ABX9TyP8YZv7/iTW/z3s+XXPSRLK",
      "include_colab_link": true
    },
    "kernelspec": {
      "name": "python3",
      "display_name": "Python 3"
    }
  },
  "cells": [
    {
      "cell_type": "markdown",
      "metadata": {
        "id": "view-in-github",
        "colab_type": "text"
      },
      "source": [
        "<a href=\"https://colab.research.google.com/github/melathkamilla/thinkinpeace/blob/master/Creating_a_hollow_rhombus_Kamilla_Melath_2019_2020.ipynb\" target=\"_parent\"><img src=\"https://colab.research.google.com/assets/colab-badge.svg\" alt=\"Open In Colab\"/></a>"
      ]
    },
    {
      "cell_type": "code",
      "metadata": {
        "id": "OHq_aPfcvPJC",
        "colab_type": "code",
        "outputId": "eaf59899-7f2c-4932-9b4d-3f4245b32dd4",
        "colab": {
          "base_uri": "https://localhost:8080/",
          "height": 104
        }
      },
      "source": [
        "n = 5\n",
        "for i in range(n):\n",
        "  print(n * \"* \")"
      ],
      "execution_count": 0,
      "outputs": [
        {
          "output_type": "stream",
          "text": [
            "* * * * * \n",
            "* * * * * \n",
            "* * * * * \n",
            "* * * * * \n",
            "* * * * * \n"
          ],
          "name": "stdout"
        }
      ]
    },
    {
      "cell_type": "code",
      "metadata": {
        "id": "trqVWbiRvR2L",
        "colab_type": "code",
        "outputId": "b81f4f11-ac78-4ef7-ee28-eb4abc610533",
        "colab": {
          "base_uri": "https://localhost:8080/",
          "height": 69
        }
      },
      "source": [
        "n = 1\n",
        "for i in range(2*n+1):\n",
        "  print(n * \"* \")"
      ],
      "execution_count": 0,
      "outputs": [
        {
          "output_type": "stream",
          "text": [
            "* \n",
            "* \n",
            "* \n"
          ],
          "name": "stdout"
        }
      ]
    },
    {
      "cell_type": "code",
      "metadata": {
        "id": "cHy8pdggwM1t",
        "colab_type": "code",
        "outputId": "25facb7a-5f72-445d-83ba-a0459d3e1376",
        "colab": {
          "base_uri": "https://localhost:8080/",
          "height": 69
        }
      },
      "source": [
        "n = 1 \n",
        "for i in range(2*n+1):\n",
        "    print((2*n+1) * \"* \")"
      ],
      "execution_count": 0,
      "outputs": [
        {
          "output_type": "stream",
          "text": [
            "* * * \n",
            "* * * \n",
            "* * * \n"
          ],
          "name": "stdout"
        }
      ]
    },
    {
      "cell_type": "code",
      "metadata": {
        "id": "EbFba1R-yB1V",
        "colab_type": "code",
        "outputId": "e8020a56-6a3a-46b0-b9d1-5a8aec3f03ba",
        "colab": {
          "base_uri": "https://localhost:8080/",
          "height": 104
        }
      },
      "source": [
        "n = 2 \n",
        "for i in range(2*n+1):\n",
        "    print((2*n+1) * \"* \")"
      ],
      "execution_count": 0,
      "outputs": [
        {
          "output_type": "stream",
          "text": [
            "* * * * * \n",
            "* * * * * \n",
            "* * * * * \n",
            "* * * * * \n",
            "* * * * * \n"
          ],
          "name": "stdout"
        }
      ]
    },
    {
      "cell_type": "code",
      "metadata": {
        "id": "Pz8hZa0sy_Lj",
        "colab_type": "code",
        "outputId": "3dc088da-ae2b-4c35-c7f8-a926d8f021ce",
        "colab": {
          "base_uri": "https://localhost:8080/",
          "height": 87
        }
      },
      "source": [
        "n = 3 \n",
        "for i in range(2*n+1):\n",
        "   if i == 1:\n",
        "     print(n * \" \" + \"*\" + n * \" \")\n",
        "   if i in [1,n+1]:\n",
        "     print(\"*\" + (2*n-1) * \" \" + \"*\")\n",
        "   if i in [1,(2*n+1)]:\n",
        "     print(n * \" \" + \"*\" + n * \" \")\n",
        "  \n",
        "  "
      ],
      "execution_count": 0,
      "outputs": [
        {
          "output_type": "stream",
          "text": [
            "   *   \n",
            "*     *\n",
            "   *   \n",
            "*     *\n"
          ],
          "name": "stdout"
        }
      ]
    },
    {
      "cell_type": "code",
      "metadata": {
        "id": "A9F20rm20A4o",
        "colab_type": "code",
        "outputId": "96d53935-95bc-4431-f174-a49e92a7535e",
        "colab": {
          "base_uri": "https://localhost:8080/",
          "height": 104
        }
      },
      "source": [
        "\n",
        "n = 5\n",
        "for i in range(n):\n",
        "  if i in [0,n-1]:\n",
        "    print(n * \"* \")\n",
        "  else:\n",
        "    print(\"* \" + (n-2)*\"  \" + \"* \")"
      ],
      "execution_count": 0,
      "outputs": [
        {
          "output_type": "stream",
          "text": [
            "* * * * * \n",
            "*       * \n",
            "*       * \n",
            "*       * \n",
            "* * * * * \n"
          ],
          "name": "stdout"
        }
      ]
    },
    {
      "cell_type": "code",
      "metadata": {
        "id": "XsLhW0352DpF",
        "colab_type": "code",
        "outputId": "a386f2a8-d643-4e5f-a4f0-6704b102b7c6",
        "colab": {
          "base_uri": "https://localhost:8080/",
          "height": 139
        }
      },
      "source": [
        "n = 3 \n",
        "for i in range(2*n+1):\n",
        "    print((2*n+1) * \"* \")"
      ],
      "execution_count": 0,
      "outputs": [
        {
          "output_type": "stream",
          "text": [
            "* * * * * * * \n",
            "* * * * * * * \n",
            "* * * * * * * \n",
            "* * * * * * * \n",
            "* * * * * * * \n",
            "* * * * * * * \n",
            "* * * * * * * \n"
          ],
          "name": "stdout"
        }
      ]
    },
    {
      "cell_type": "code",
      "metadata": {
        "id": "F4QO5twR5FX-",
        "colab_type": "code",
        "outputId": "870ba2a7-c480-4051-c664-09b3bcbda866",
        "colab": {
          "base_uri": "https://localhost:8080/",
          "height": 69
        }
      },
      "source": [
        "n = 1 \n",
        "for i in range(2*n+1):\n",
        "   if i > 0 and i < n+1:\n",
        "     print(\"*\" + (2*n-1) * \" \" + \"*\")\n",
        "   else:\n",
        "     print(n * \" \" + \"*\" + n * \" \")"
      ],
      "execution_count": 0,
      "outputs": [
        {
          "output_type": "stream",
          "text": [
            " * \n",
            "* *\n",
            " * \n"
          ],
          "name": "stdout"
        }
      ]
    },
    {
      "cell_type": "code",
      "metadata": {
        "id": "nZ1zKF7mkL-D",
        "colab_type": "code",
        "outputId": "1177e3c5-d8f4-4558-9d39-06cb52efbd1b",
        "colab": {
          "base_uri": "https://localhost:8080/",
          "height": 104
        }
      },
      "source": [
        "n= 5 \n",
        "a = 1\n",
        "b = 1\n",
        "for a in range(n+1):\n",
        "    if a%2 != 0:\n",
        "        val = (n - a) // 2\n",
        "        print (\" \"*val + \"*\"*(a) + \" \"*val ,end = \"\\n\")\n",
        "for b in range(n-1,0,-1):\n",
        "    if b%2 != 0:\n",
        "        val2 = (n-b)//2\n",
        "        print (\" \"*val2 + \"*\"*(b) + \" \"*val2 ,end = \"\\n\")"
      ],
      "execution_count": 0,
      "outputs": [
        {
          "output_type": "stream",
          "text": [
            "  *  \n",
            " *** \n",
            "*****\n",
            " *** \n",
            "  *  \n"
          ],
          "name": "stdout"
        }
      ]
    },
    {
      "cell_type": "code",
      "metadata": {
        "id": "PHrMJFdhQwTH",
        "colab_type": "code",
        "outputId": "bcbbd596-669a-41fa-c466-4546713d8beb",
        "colab": {
          "base_uri": "https://localhost:8080/",
          "height": 87
        }
      },
      "source": [
        "n=1\n",
        "m= (n+1)*2\n",
        "row=int(m)\n",
        "for i in range(row):\n",
        "    if i<=row//2:\n",
        "        for j in range(row//2-i):\n",
        "            print(\" \",end='')\n",
        "        for k in range(i*2-1):\n",
        "            if k==0 or k==i*2-2:\n",
        "                print(\"*\",end=\"\")\n",
        "            else:\n",
        "                print(' ',end='')\n",
        "        print()\n",
        "    else:\n",
        "        for j in range(i-row//2):\n",
        "            print(\" \",end=\"\")\n",
        "        for k in range((row-i)*2-1):\n",
        "            if k==0 or k==(row-i)*2-2:\n",
        "                print(\"*\",end=\"\")\n",
        "            else:\n",
        "                print(' ',end=\"\")\n",
        "        print()"
      ],
      "execution_count": 2,
      "outputs": [
        {
          "output_type": "stream",
          "text": [
            "  \n",
            " *\n",
            "* *\n",
            " *\n"
          ],
          "name": "stdout"
        }
      ]
    },
    {
      "cell_type": "code",
      "metadata": {
        "colab_type": "code",
        "id": "Nb-UOu05YUk7",
        "colab": {
          "base_uri": "https://localhost:8080/",
          "height": 399
        },
        "outputId": "8f8cf48d-7935-4146-ec39-3ec69dc920b1"
      },
      "source": [
        "n=10\n",
        "m= (n+1)*2\n",
        "row=int(m)\n",
        "for i in range(row):\n",
        "    if i<=row//2:\n",
        "        for j in range(row//2-i):\n",
        "            print(\" \",end='')\n",
        "        for k in range(i*2-1):\n",
        "            if k==0 or k==i*2-2:\n",
        "                print(\"*\",end=\"\")\n",
        "            else:\n",
        "                print(' ',end='')\n",
        "        print()\n",
        "    else:\n",
        "        for j in range(i-row//2):\n",
        "            print(\" \",end=\"\")\n",
        "        for k in range((row-i)*2-1):\n",
        "            if k==0 or k==(row-i)*2-2:\n",
        "                print(\"*\",end=\"\")\n",
        "            else:\n",
        "                print(' ',end=\"\")\n",
        "        print()"
      ],
      "execution_count": 3,
      "outputs": [
        {
          "output_type": "stream",
          "text": [
            "           \n",
            "          *\n",
            "         * *\n",
            "        *   *\n",
            "       *     *\n",
            "      *       *\n",
            "     *         *\n",
            "    *           *\n",
            "   *             *\n",
            "  *               *\n",
            " *                 *\n",
            "*                   *\n",
            " *                 *\n",
            "  *               *\n",
            "   *             *\n",
            "    *           *\n",
            "     *         *\n",
            "      *       *\n",
            "       *     *\n",
            "        *   *\n",
            "         * *\n",
            "          *\n"
          ],
          "name": "stdout"
        }
      ]
    },
    {
      "cell_type": "code",
      "metadata": {
        "id": "2JdbbgPbYb8F",
        "colab_type": "code",
        "colab": {
          "base_uri": "https://localhost:8080/",
          "height": 1000
        },
        "outputId": "8934b910-a8d8-44e4-b01f-5ff112633e5f"
      },
      "source": [
        "n=100\n",
        "m= (n+1)*2\n",
        "row=int(m)\n",
        "for i in range(row):\n",
        "    if i<=row//2:\n",
        "        for j in range(row//2-i):\n",
        "            print(\" \",end='')\n",
        "        for k in range(i*2-1):\n",
        "            if k==0 or k==i*2-2:\n",
        "                print(\"*\",end=\"\")\n",
        "            else:\n",
        "                print(' ',end='')\n",
        "        print()\n",
        "    else:\n",
        "        for j in range(i-row//2):\n",
        "            print(\" \",end=\"\")\n",
        "        for k in range((row-i)*2-1):\n",
        "            if k==0 or k==(row-i)*2-2:\n",
        "                print(\"*\",end=\"\")\n",
        "            else:\n",
        "                print(' ',end=\"\")\n",
        "        print()"
      ],
      "execution_count": 4,
      "outputs": [
        {
          "output_type": "stream",
          "text": [
            "                                                                                                     \n",
            "                                                                                                    *\n",
            "                                                                                                   * *\n",
            "                                                                                                  *   *\n",
            "                                                                                                 *     *\n",
            "                                                                                                *       *\n",
            "                                                                                               *         *\n",
            "                                                                                              *           *\n",
            "                                                                                             *             *\n",
            "                                                                                            *               *\n",
            "                                                                                           *                 *\n",
            "                                                                                          *                   *\n",
            "                                                                                         *                     *\n",
            "                                                                                        *                       *\n",
            "                                                                                       *                         *\n",
            "                                                                                      *                           *\n",
            "                                                                                     *                             *\n",
            "                                                                                    *                               *\n",
            "                                                                                   *                                 *\n",
            "                                                                                  *                                   *\n",
            "                                                                                 *                                     *\n",
            "                                                                                *                                       *\n",
            "                                                                               *                                         *\n",
            "                                                                              *                                           *\n",
            "                                                                             *                                             *\n",
            "                                                                            *                                               *\n",
            "                                                                           *                                                 *\n",
            "                                                                          *                                                   *\n",
            "                                                                         *                                                     *\n",
            "                                                                        *                                                       *\n",
            "                                                                       *                                                         *\n",
            "                                                                      *                                                           *\n",
            "                                                                     *                                                             *\n",
            "                                                                    *                                                               *\n",
            "                                                                   *                                                                 *\n",
            "                                                                  *                                                                   *\n",
            "                                                                 *                                                                     *\n",
            "                                                                *                                                                       *\n",
            "                                                               *                                                                         *\n",
            "                                                              *                                                                           *\n",
            "                                                             *                                                                             *\n",
            "                                                            *                                                                               *\n",
            "                                                           *                                                                                 *\n",
            "                                                          *                                                                                   *\n",
            "                                                         *                                                                                     *\n",
            "                                                        *                                                                                       *\n",
            "                                                       *                                                                                         *\n",
            "                                                      *                                                                                           *\n",
            "                                                     *                                                                                             *\n",
            "                                                    *                                                                                               *\n",
            "                                                   *                                                                                                 *\n",
            "                                                  *                                                                                                   *\n",
            "                                                 *                                                                                                     *\n",
            "                                                *                                                                                                       *\n",
            "                                               *                                                                                                         *\n",
            "                                              *                                                                                                           *\n",
            "                                             *                                                                                                             *\n",
            "                                            *                                                                                                               *\n",
            "                                           *                                                                                                                 *\n",
            "                                          *                                                                                                                   *\n",
            "                                         *                                                                                                                     *\n",
            "                                        *                                                                                                                       *\n",
            "                                       *                                                                                                                         *\n",
            "                                      *                                                                                                                           *\n",
            "                                     *                                                                                                                             *\n",
            "                                    *                                                                                                                               *\n",
            "                                   *                                                                                                                                 *\n",
            "                                  *                                                                                                                                   *\n",
            "                                 *                                                                                                                                     *\n",
            "                                *                                                                                                                                       *\n",
            "                               *                                                                                                                                         *\n",
            "                              *                                                                                                                                           *\n",
            "                             *                                                                                                                                             *\n",
            "                            *                                                                                                                                               *\n",
            "                           *                                                                                                                                                 *\n",
            "                          *                                                                                                                                                   *\n",
            "                         *                                                                                                                                                     *\n",
            "                        *                                                                                                                                                       *\n",
            "                       *                                                                                                                                                         *\n",
            "                      *                                                                                                                                                           *\n",
            "                     *                                                                                                                                                             *\n",
            "                    *                                                                                                                                                               *\n",
            "                   *                                                                                                                                                                 *\n",
            "                  *                                                                                                                                                                   *\n",
            "                 *                                                                                                                                                                     *\n",
            "                *                                                                                                                                                                       *\n",
            "               *                                                                                                                                                                         *\n",
            "              *                                                                                                                                                                           *\n",
            "             *                                                                                                                                                                             *\n",
            "            *                                                                                                                                                                               *\n",
            "           *                                                                                                                                                                                 *\n",
            "          *                                                                                                                                                                                   *\n",
            "         *                                                                                                                                                                                     *\n",
            "        *                                                                                                                                                                                       *\n",
            "       *                                                                                                                                                                                         *\n",
            "      *                                                                                                                                                                                           *\n",
            "     *                                                                                                                                                                                             *\n",
            "    *                                                                                                                                                                                               *\n",
            "   *                                                                                                                                                                                                 *\n",
            "  *                                                                                                                                                                                                   *\n",
            " *                                                                                                                                                                                                     *\n",
            "*                                                                                                                                                                                                       *\n",
            " *                                                                                                                                                                                                     *\n",
            "  *                                                                                                                                                                                                   *\n",
            "   *                                                                                                                                                                                                 *\n",
            "    *                                                                                                                                                                                               *\n",
            "     *                                                                                                                                                                                             *\n",
            "      *                                                                                                                                                                                           *\n",
            "       *                                                                                                                                                                                         *\n",
            "        *                                                                                                                                                                                       *\n",
            "         *                                                                                                                                                                                     *\n",
            "          *                                                                                                                                                                                   *\n",
            "           *                                                                                                                                                                                 *\n",
            "            *                                                                                                                                                                               *\n",
            "             *                                                                                                                                                                             *\n",
            "              *                                                                                                                                                                           *\n",
            "               *                                                                                                                                                                         *\n",
            "                *                                                                                                                                                                       *\n",
            "                 *                                                                                                                                                                     *\n",
            "                  *                                                                                                                                                                   *\n",
            "                   *                                                                                                                                                                 *\n",
            "                    *                                                                                                                                                               *\n",
            "                     *                                                                                                                                                             *\n",
            "                      *                                                                                                                                                           *\n",
            "                       *                                                                                                                                                         *\n",
            "                        *                                                                                                                                                       *\n",
            "                         *                                                                                                                                                     *\n",
            "                          *                                                                                                                                                   *\n",
            "                           *                                                                                                                                                 *\n",
            "                            *                                                                                                                                               *\n",
            "                             *                                                                                                                                             *\n",
            "                              *                                                                                                                                           *\n",
            "                               *                                                                                                                                         *\n",
            "                                *                                                                                                                                       *\n",
            "                                 *                                                                                                                                     *\n",
            "                                  *                                                                                                                                   *\n",
            "                                   *                                                                                                                                 *\n",
            "                                    *                                                                                                                               *\n",
            "                                     *                                                                                                                             *\n",
            "                                      *                                                                                                                           *\n",
            "                                       *                                                                                                                         *\n",
            "                                        *                                                                                                                       *\n",
            "                                         *                                                                                                                     *\n",
            "                                          *                                                                                                                   *\n",
            "                                           *                                                                                                                 *\n",
            "                                            *                                                                                                               *\n",
            "                                             *                                                                                                             *\n",
            "                                              *                                                                                                           *\n",
            "                                               *                                                                                                         *\n",
            "                                                *                                                                                                       *\n",
            "                                                 *                                                                                                     *\n",
            "                                                  *                                                                                                   *\n",
            "                                                   *                                                                                                 *\n",
            "                                                    *                                                                                               *\n",
            "                                                     *                                                                                             *\n",
            "                                                      *                                                                                           *\n",
            "                                                       *                                                                                         *\n",
            "                                                        *                                                                                       *\n",
            "                                                         *                                                                                     *\n",
            "                                                          *                                                                                   *\n",
            "                                                           *                                                                                 *\n",
            "                                                            *                                                                               *\n",
            "                                                             *                                                                             *\n",
            "                                                              *                                                                           *\n",
            "                                                               *                                                                         *\n",
            "                                                                *                                                                       *\n",
            "                                                                 *                                                                     *\n",
            "                                                                  *                                                                   *\n",
            "                                                                   *                                                                 *\n",
            "                                                                    *                                                               *\n",
            "                                                                     *                                                             *\n",
            "                                                                      *                                                           *\n",
            "                                                                       *                                                         *\n",
            "                                                                        *                                                       *\n",
            "                                                                         *                                                     *\n",
            "                                                                          *                                                   *\n",
            "                                                                           *                                                 *\n",
            "                                                                            *                                               *\n",
            "                                                                             *                                             *\n",
            "                                                                              *                                           *\n",
            "                                                                               *                                         *\n",
            "                                                                                *                                       *\n",
            "                                                                                 *                                     *\n",
            "                                                                                  *                                   *\n",
            "                                                                                   *                                 *\n",
            "                                                                                    *                               *\n",
            "                                                                                     *                             *\n",
            "                                                                                      *                           *\n",
            "                                                                                       *                         *\n",
            "                                                                                        *                       *\n",
            "                                                                                         *                     *\n",
            "                                                                                          *                   *\n",
            "                                                                                           *                 *\n",
            "                                                                                            *               *\n",
            "                                                                                             *             *\n",
            "                                                                                              *           *\n",
            "                                                                                               *         *\n",
            "                                                                                                *       *\n",
            "                                                                                                 *     *\n",
            "                                                                                                  *   *\n",
            "                                                                                                   * *\n",
            "                                                                                                    *\n"
          ],
          "name": "stdout"
        }
      ]
    },
    {
      "cell_type": "code",
      "metadata": {
        "id": "slj6TEsfYdlj",
        "colab_type": "code",
        "colab": {}
      },
      "source": [
        ""
      ],
      "execution_count": 0,
      "outputs": []
    }
  ]
}